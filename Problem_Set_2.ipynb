{
 "cells": [
  {
   "cell_type": "markdown",
   "id": "fe235372-a239-41e4-9530-4be320d54758",
   "metadata": {},
   "source": [
    "### Question-1 "
   ]
  },
  {
   "cell_type": "code",
   "execution_count": 1,
   "id": "00d28fa7-9b7c-402f-bab6-62fad7dc6551",
   "metadata": {},
   "outputs": [
    {
     "data": {
      "text/plain": [
       "6"
      ]
     },
     "execution_count": 1,
     "metadata": {},
     "output_type": "execute_result"
    }
   ],
   "source": [
    "a = 0\n",
    "\n",
    "def b():\n",
    "    global a \n",
    "    a = c(a)  \n",
    "\n",
    "# Define function c which adds 2 to its argument\n",
    "def c(a):\n",
    "    return a + 2\n",
    "\n",
    "b()  # a = c(0) => a = 0 + 2 => a = 2\n",
    "b()  # a = c(2) => a = 2 + 2 => a = 4\n",
    "b()  # a = c(4) => a = 4 + 2 => a = 6\n",
    "\n",
    "# Display the value of a\n",
    "a\n",
    "\n"
   ]
  },
  {
   "cell_type": "markdown",
   "id": "84b81676-8e0d-4078-ab08-d512f01e477e",
   "metadata": {},
   "source": [
    "In the first call to b(), the global variable a (initially 0) is used. This value is passed to c(), which updates a to 2. Consequently, b() returns 2.\n",
    "\n",
    "In the second call to b(), the updated global a (now 2) is passed to c(). This results in a being updated to 4, and b() returns 4.\n",
    "\n",
    "In the third call to b(), the global a (now 4) is passed to c(), updating a to 6. Thus, b() returns 6.\n",
    "\n",
    "Since a is a global variable, any change to a within c() affects the global a. Therefore, the final value of a is 6"
   ]
  },
  {
   "cell_type": "markdown",
   "id": "59a19705-0fa1-4480-b483-e524c2044c84",
   "metadata": {},
   "source": [
    "### Question-2"
   ]
  },
  {
   "cell_type": "code",
   "execution_count": 1,
   "id": "d9a75ea7-3bc3-47e4-bfce-a8716ab23eee",
   "metadata": {},
   "outputs": [
    {
     "name": "stdout",
     "output_type": "stream",
     "text": [
      "20\n",
      "File nonexistentfile.txt not found\n"
     ]
    }
   ],
   "source": [
    "# Create a test file\n",
    "test_filename = 'testfile.txt'\n",
    "with open(test_filename, 'w') as f :\n",
    "    f.write(\"This is a test file.\")\n",
    "\n",
    "def filelength(filename):\n",
    "    try:\n",
    "        with open(filename, 'r') as infile:\n",
    "            content = infile.read()\n",
    "            return len(content)\n",
    "    except FileNotFoundError:\n",
    "        print(f\"File {filename} not found\")\n",
    "    except Exception as e:\n",
    "        print(f\"an error occurred: {e}\")\n",
    "\n",
    "print(filelength('testfile.txt'))\n",
    "filelength('nonexistentfile.txt')"
   ]
  },
  {
   "cell_type": "markdown",
   "id": "d601ca78-53b1-4874-83b6-cd16dd64b118",
   "metadata": {},
   "source": [
    "### Question-3"
   ]
  },
  {
   "cell_type": "code",
   "execution_count": 4,
   "id": "3ad33e95-8089-4b5d-8fb7-0e1a795a7979",
   "metadata": {},
   "outputs": [
    {
     "name": "stdout",
     "output_type": "stream",
     "text": [
      "Marsupial pouch contents: ['doll', 'firetruck', 'kitten']\n",
      "I am a Kangaroo located at coordinates (0,0)\n",
      "Kangaroo pouch contents: ['doll', 'firetruck', 'kitten']\n",
      "I am a Kangaroo located at coordinates (3,0)\n"
     ]
    }
   ],
   "source": [
    "class Marsupial:\n",
    "    def __init__(self):\n",
    "        \"\"\"\n",
    "        Initializes a Marsupial with an empty pouch.\n",
    "        \"\"\"\n",
    "        self.pouch = []\n",
    "    \n",
    "    def put_in_pouch(self, item):\n",
    "        \"\"\"\n",
    "        Adds an item to the pouch of the Marsupial.\n",
    "\n",
    "        Parameters:\n",
    "        - item (any): The item to be added to the pouch.\n",
    "        \"\"\"\n",
    "        self.pouch.append(item)\n",
    "    \n",
    "    def pouch_contents(self):\n",
    "        \"\"\"\n",
    "        Returns a list of items currently in the pouch.\n",
    "\n",
    "        Returns:\n",
    "        - list: A list of items in the pouch.\n",
    "        \"\"\"\n",
    "        return self.pouch\n",
    "\n",
    "\n",
    "class Kangaroo(Marsupial):\n",
    "    def __init__(self, x, y):\n",
    "        \"\"\"\n",
    "        Initializes a Kangaroo with coordinates and an empty pouch.\n",
    "\n",
    "        Parameters:\n",
    "        - x (int): The initial x-coordinate of the Kangaroo.\n",
    "        - y (int): The initial y-coordinate of the Kangaroo.\n",
    "        \"\"\"\n",
    "        super().__init__()\n",
    "        self.x = x\n",
    "        self.y = y\n",
    "    \n",
    "    def jump(self, dx, dy):\n",
    "        \"\"\"\n",
    "        Moves the Kangaroo by specified amounts along the x and y axes.\n",
    "\n",
    "        Parameters:\n",
    "        - dx (int): Amount to move along the x-axis.\n",
    "        - dy (int): Amount to move along the y-axis.\n",
    "        \"\"\"\n",
    "        self.x += dx\n",
    "        self.y += dy\n",
    "    \n",
    "    def __str__(self):\n",
    "        \"\"\"\n",
    "        Returns a string representation of the Kangaroo's location.\n",
    "\n",
    "        Returns:\n",
    "        - str: String describing the Kangaroo's location.\n",
    "        \"\"\"\n",
    "        return f\"I am a Kangaroo located at coordinates ({self.x},{self.y})\"\n",
    "\n",
    "\n",
    "\n",
    "m = Marsupial()\n",
    "m.put_in_pouch('doll')\n",
    "m.put_in_pouch('firetruck')\n",
    "m.put_in_pouch('kitten')\n",
    "print(\"Marsupial pouch contents:\", m.pouch_contents())\n",
    "\n",
    "k = Kangaroo(0, 0)\n",
    "print(k)\n",
    "k.put_in_pouch('doll')\n",
    "k.put_in_pouch('firetruck')\n",
    "k.put_in_pouch('kitten')\n",
    "print(\"Kangaroo pouch contents:\", k.pouch_contents())\n",
    "k.jump(1, 0)\n",
    "k.jump(1, 0)\n",
    "k.jump(1, 0)\n",
    "print(k)\n"
   ]
  },
  {
   "cell_type": "markdown",
   "id": "54c28266-7756-4d36-b151-5a3922511cb8",
   "metadata": {},
   "source": [
    "### Question-4"
   ]
  },
  {
   "cell_type": "code",
   "execution_count": 4,
   "id": "db135245-4580-48bc-823f-510fe24b7efa",
   "metadata": {},
   "outputs": [
    {
     "name": "stdout",
     "output_type": "stream",
     "text": [
      "1\n",
      "10\n",
      "5\n",
      "16\n",
      "8\n",
      "4\n",
      "2\n",
      "1\n"
     ]
    }
   ],
   "source": [
    "def collatz(x):\n",
    "    \"\"\"\n",
    "    Prints the Collatz sequence starting at x recursively until reaching 1.\n",
    "\n",
    "    Parameters:\n",
    "    - x (int): The starting positive integer of the Collatz sequence.\n",
    "    \"\"\"\n",
    "    print(x)  # Print the current number in the sequence\n",
    "    if x == 1:\n",
    "        return  # Base case: stop recursion when x reaches 1\n",
    "    elif x % 2 == 0:\n",
    "        collatz(x // 2)  # Recursive call for even numbers\n",
    "    else:\n",
    "        collatz(3 * x + 1)  # Recursive call for odd numbers\n",
    "\n",
    "\n",
    "collatz(1)\n",
    "\n",
    "collatz(10)\n"
   ]
  },
  {
   "cell_type": "markdown",
   "id": "e8ab563e-88b5-4dc7-b8fa-f942c9109911",
   "metadata": {},
   "source": [
    "### Question-5"
   ]
  },
  {
   "cell_type": "code",
   "execution_count": 7,
   "id": "3f46098f-f2ab-45ee-b507-48a9f38d9b55",
   "metadata": {},
   "outputs": [
    {
     "name": "stdout",
     "output_type": "stream",
     "text": [
      "0\n",
      "1\n",
      "11\n",
      "1001"
     ]
    }
   ],
   "source": [
    "def binary(n):\n",
    "    \"\"\"\n",
    "    Recursively prints the binary representation of a non-negative integer n.\n",
    "\n",
    "    Parameters:\n",
    "    - n (int): The non-negative integer to convert to binary and print.\n",
    "    \"\"\"\n",
    "    if n == 0:\n",
    "        print(0, end='')  # Base case: when n is 0, print '0' and stop recursion\n",
    "    elif n == 1:\n",
    "        print(1, end='')  # Base case: when n is 1, print '1' and stop recursion\n",
    "    else:\n",
    "        binary(n // 2)     # Recursively convert the quotient to binary\n",
    "        print(n % 2, end='')  # Print the remainder, which is the binary digit\n",
    "\n",
    "binary(0)\n",
    "print()\n",
    "\n",
    "binary(1)\n",
    "print()\n",
    "\n",
    "binary(3)\n",
    "print()\n",
    "\n",
    "binary(9)\n"
   ]
  },
  {
   "cell_type": "markdown",
   "id": "ba115fbe-eb90-4af4-b4b5-3658c23f43ea",
   "metadata": {},
   "source": [
    "### Question-6"
   ]
  },
  {
   "cell_type": "code",
   "execution_count": 2,
   "id": "b31b3f34-e2ff-4c37-8a2f-ece39e9d2046",
   "metadata": {},
   "outputs": [
    {
     "name": "stdout",
     "output_type": "stream",
     "text": [
      "W3C Mission\n",
      "\tPrinciples\n"
     ]
    }
   ],
   "source": [
    "from html.parser import HTMLParser\n",
    "\n",
    "class HeadingParser(HTMLParser):\n",
    "    def __init__(self):\n",
    "        super().__init__()\n",
    "        self.current_tag = None\n",
    "        self.indentation_level = 0\n",
    "\n",
    "    def handle_starttag(self, tag, attrs):\n",
    "        if tag in [\"h1\", \"h2\", \"h3\", \"h4\", \"h5\", \"h6\"]:\n",
    "            self.current_tag = tag\n",
    "            self.indentation_level = int(tag[1]) - 1\n",
    "\n",
    "    def handle_data(self, data):\n",
    "        if self.current_tag:\n",
    "            print(\"\\t\" * self.indentation_level + data)\n",
    "\n",
    "    def handle_endtag(self, tag):\n",
    "        if tag == self.current_tag:\n",
    "            self.current_tag = None\n",
    "\n",
    "# Read and parse the HTML file\n",
    "with open('w3c.txt', 'r') as infile:\n",
    "    content = infile.read()\n",
    "\n",
    "hp = HeadingParser()\n",
    "hp.feed(content)\n"
   ]
  },
  {
   "cell_type": "markdown",
   "id": "ea8230a4-f570-4685-bdf8-ab9867b7fe8b",
   "metadata": {},
   "source": [
    "### Question-7"
   ]
  },
  {
   "cell_type": "code",
   "execution_count": 8,
   "id": "f17d79b2-7989-467a-bd52-5e3520c2113e",
   "metadata": {},
   "outputs": [
    {
     "name": "stdout",
     "output_type": "stream",
     "text": [
      "http://localhost:8888/tree\n",
      "  http://localhost:8888/tree\n",
      "  https://jupyter-server.readthedocs.io/en/latest/operators/public-server.html\n",
      "  https://jupyter-server.readthedocs.io/en/latest/operators/public-server.html\n"
     ]
    }
   ],
   "source": [
    "import requests\n",
    "from bs4 import BeautifulSoup\n",
    "from urllib.parse import urljoin\n",
    "\n",
    "def webdir(url, depth, indent):\n",
    "    \"\"\"\n",
    "    Recursively visits web pages reachable from the starting URL up to the specified depth,\n",
    "    and prints each web page's URL with appropriate indentation.\n",
    "\n",
    "    Parameters:\n",
    "    - url (str): The starting URL to begin crawling.\n",
    "    - depth (int): Non-negative integer indicating the maximum depth to crawl.\n",
    "    - indent (int): Current indentation level for printing.\n",
    "\n",
    "    Returns:\n",
    "    - None\n",
    "    \"\"\"\n",
    "    # Base case: If depth is 0, do not proceed further\n",
    "    if depth == 0:\n",
    "        return\n",
    "    \n",
    "    try:\n",
    "        # Fetch the webpage content\n",
    "        response = requests.get(url)\n",
    "        response.raise_for_status()  # Raise HTTPError for bad status codes\n",
    "        soup = BeautifulSoup(response.content, 'html.parser')\n",
    "        \n",
    "        # Print the current URL with appropriate indentation\n",
    "        print(' ' * indent + url)\n",
    "        \n",
    "        # Find all anchor tags (<a>) that contain links\n",
    "        for link in soup.find_all('a'):\n",
    "            href = link.get('href')\n",
    "            if href:\n",
    "                next_url = urljoin(url, href)\n",
    "                # Recursively call webdir for the next URL with decreased depth and increased indent\n",
    "                webdir(next_url, depth - 1, indent + 2)\n",
    "    \n",
    "    except requests.exceptions.RequestException as e:\n",
    "        print(f\"Error fetching {url}: {e}\")\n",
    "    except Exception as e:\n",
    "        print(f\"Error parsing {url}: {e}\")\n",
    "\n",
    "# Example usage:\n",
    "webdir('http://localhost:8888/tree', 2, 0)\n"
   ]
  },
  {
   "cell_type": "markdown",
   "id": "fa08073c-4c31-48a5-8498-90f9bd604401",
   "metadata": {},
   "source": [
    "### Question-8"
   ]
  },
  {
   "cell_type": "code",
   "execution_count": 1,
   "id": "378dfc27-d23e-436c-87ef-7ffe4a70b620",
   "metadata": {},
   "outputs": [
    {
     "name": "stdout",
     "output_type": "stream",
     "text": [
      "Collecting mysql-connector-python\n",
      "  Downloading mysql_connector_python-9.0.0-cp311-cp311-win_amd64.whl.metadata (2.0 kB)\n",
      "Downloading mysql_connector_python-9.0.0-cp311-cp311-win_amd64.whl (14.3 MB)\n",
      "   ---------------------------------------- 0.0/14.3 MB ? eta -:--:--\n",
      "   ---------------------------------------- 0.0/14.3 MB ? eta -:--:--\n",
      "   ---------------------------------------- 0.0/14.3 MB 330.3 kB/s eta 0:00:44\n",
      "   ---------------------------------------- 0.0/14.3 MB 330.3 kB/s eta 0:00:44\n",
      "   ---------------------------------------- 0.0/14.3 MB 330.3 kB/s eta 0:00:44\n",
      "   ---------------------------------------- 0.0/14.3 MB 330.3 kB/s eta 0:00:44\n",
      "   ---------------------------------------- 0.1/14.3 MB 502.3 kB/s eta 0:00:29\n",
      "   -- ------------------------------------- 0.8/14.3 MB 2.5 MB/s eta 0:00:06\n",
      "   --- ------------------------------------ 1.3/14.3 MB 3.5 MB/s eta 0:00:04\n",
      "   ----- ---------------------------------- 1.8/14.3 MB 4.1 MB/s eta 0:00:04\n",
      "   ------ --------------------------------- 2.3/14.3 MB 4.9 MB/s eta 0:00:03\n",
      "   ------- -------------------------------- 2.8/14.3 MB 5.4 MB/s eta 0:00:03\n",
      "   -------- ------------------------------- 3.2/14.3 MB 5.5 MB/s eta 0:00:03\n",
      "   --------- ------------------------------ 3.6/14.3 MB 5.8 MB/s eta 0:00:02\n",
      "   ---------- ----------------------------- 3.8/14.3 MB 5.9 MB/s eta 0:00:02\n",
      "   ---------- ----------------------------- 3.9/14.3 MB 5.6 MB/s eta 0:00:02\n",
      "   ------------ --------------------------- 4.4/14.3 MB 5.8 MB/s eta 0:00:02\n",
      "   ------------- -------------------------- 4.7/14.3 MB 5.9 MB/s eta 0:00:02\n",
      "   ------------- -------------------------- 4.8/14.3 MB 5.7 MB/s eta 0:00:02\n",
      "   -------------- ------------------------- 5.1/14.3 MB 5.6 MB/s eta 0:00:02\n",
      "   ---------------- ----------------------- 5.8/14.3 MB 6.0 MB/s eta 0:00:02\n",
      "   ----------------- ---------------------- 6.1/14.3 MB 6.1 MB/s eta 0:00:02\n",
      "   ----------------- ---------------------- 6.4/14.3 MB 6.1 MB/s eta 0:00:02\n",
      "   ------------------- -------------------- 7.0/14.3 MB 6.2 MB/s eta 0:00:02\n",
      "   -------------------- ------------------- 7.4/14.3 MB 6.2 MB/s eta 0:00:02\n",
      "   --------------------- ------------------ 7.7/14.3 MB 6.2 MB/s eta 0:00:02\n",
      "   ---------------------- ----------------- 8.0/14.3 MB 6.2 MB/s eta 0:00:02\n",
      "   ---------------------- ----------------- 8.2/14.3 MB 6.2 MB/s eta 0:00:01\n",
      "   ----------------------- ---------------- 8.4/14.3 MB 6.1 MB/s eta 0:00:01\n",
      "   ------------------------ --------------- 8.6/14.3 MB 6.0 MB/s eta 0:00:01\n",
      "   ------------------------ --------------- 9.0/14.3 MB 6.2 MB/s eta 0:00:01\n",
      "   ------------------------- -------------- 9.3/14.3 MB 6.2 MB/s eta 0:00:01\n",
      "   -------------------------- ------------- 9.4/14.3 MB 6.1 MB/s eta 0:00:01\n",
      "   -------------------------- ------------- 9.4/14.3 MB 6.1 MB/s eta 0:00:01\n",
      "   -------------------------- ------------- 9.4/14.3 MB 6.1 MB/s eta 0:00:01\n",
      "   -------------------------- ------------- 9.4/14.3 MB 6.1 MB/s eta 0:00:01\n",
      "   -------------------------- ------------- 9.4/14.3 MB 6.1 MB/s eta 0:00:01\n",
      "   -------------------------- ------------- 9.4/14.3 MB 6.1 MB/s eta 0:00:01\n",
      "   -------------------------- ------------- 9.4/14.3 MB 6.1 MB/s eta 0:00:01\n",
      "   -------------------------- ------------- 9.6/14.3 MB 5.1 MB/s eta 0:00:01\n",
      "   -------------------------- ------------- 9.6/14.3 MB 5.1 MB/s eta 0:00:01\n",
      "   -------------------------- ------------- 9.6/14.3 MB 5.1 MB/s eta 0:00:01\n",
      "   -------------------------- ------------- 9.6/14.3 MB 4.8 MB/s eta 0:00:01\n",
      "   ---------------------------- ----------- 10.4/14.3 MB 5.7 MB/s eta 0:00:01\n",
      "   ------------------------------- -------- 11.3/14.3 MB 5.8 MB/s eta 0:00:01\n",
      "   --------------------------------- ------ 11.9/14.3 MB 5.8 MB/s eta 0:00:01\n",
      "   ------------------------------------ --- 13.1/14.3 MB 6.1 MB/s eta 0:00:01\n",
      "   -------------------------------------- - 13.8/14.3 MB 6.2 MB/s eta 0:00:01\n",
      "   -------------------------------------- - 13.8/14.3 MB 6.1 MB/s eta 0:00:01\n",
      "   ---------------------------------------  14.3/14.3 MB 6.2 MB/s eta 0:00:01\n",
      "   ---------------------------------------  14.3/14.3 MB 6.2 MB/s eta 0:00:01\n",
      "   ---------------------------------------  14.3/14.3 MB 6.2 MB/s eta 0:00:01\n",
      "   ---------------------------------------- 14.3/14.3 MB 5.5 MB/s eta 0:00:00\n",
      "Installing collected packages: mysql-connector-python\n",
      "Successfully installed mysql-connector-python-9.0.0\n"
     ]
    }
   ],
   "source": [
    "!pip install mysql-connector-python\n"
   ]
  },
  {
   "cell_type": "code",
   "execution_count": 2,
   "id": "072a2d41-a6e8-440e-98ec-cd1f30d44f27",
   "metadata": {},
   "outputs": [],
   "source": [
    "import mysql.connector\n"
   ]
  },
  {
   "cell_type": "markdown",
   "id": "89641582-53c9-45d6-afc8-76d84243d077",
   "metadata": {},
   "source": [
    "### Question-9"
   ]
  },
  {
   "cell_type": "code",
   "execution_count": 25,
   "id": "afb3dba0-405c-4c6e-bb2c-f38f9f1cdb3e",
   "metadata": {},
   "outputs": [],
   "source": [
    "words = ['The', 'quick', 'brown', 'fox', 'jumps', 'over', 'the', 'lazy', 'dog']\n"
   ]
  },
  {
   "cell_type": "code",
   "execution_count": 26,
   "id": "b6a1077a-42d6-42bc-a1e9-844bc6a0d0b3",
   "metadata": {},
   "outputs": [
    {
     "name": "stdout",
     "output_type": "stream",
     "text": [
      "['THE', 'QUICK', 'BROWN', 'FOX', 'JUMPS', 'OVER', 'THE', 'LAZY', 'DOG']\n"
     ]
    }
   ],
   "source": [
    "uppercase_words = [word.upper() for word in words]\n",
    "print(uppercase_words)\n"
   ]
  },
  {
   "cell_type": "code",
   "execution_count": 27,
   "id": "180700be-3d1d-4e80-b428-fd26c188808e",
   "metadata": {},
   "outputs": [
    {
     "name": "stdout",
     "output_type": "stream",
     "text": [
      "['the', 'quick', 'brown', 'fox', 'jumps', 'over', 'the', 'lazy', 'dog']\n"
     ]
    }
   ],
   "source": [
    "lowercase_words = [word.lower() for word in words]\n",
    "print(lowercase_words)\n"
   ]
  },
  {
   "cell_type": "code",
   "execution_count": 28,
   "id": "76d1e033-5e8f-4391-93bf-e8eb589e3998",
   "metadata": {},
   "outputs": [
    {
     "name": "stdout",
     "output_type": "stream",
     "text": [
      "[3, 5, 5, 3, 5, 4, 3, 4, 3]\n"
     ]
    }
   ],
   "source": [
    "word_lengths = [len(word) for word in words]\n",
    "print(word_lengths)\n",
    "\n"
   ]
  },
  {
   "cell_type": "code",
   "execution_count": 29,
   "id": "c1664121-6e5f-4ea6-8735-038e916d0d91",
   "metadata": {},
   "outputs": [
    {
     "name": "stdout",
     "output_type": "stream",
     "text": [
      "[['THE', 'the', 3], ['QUICK', 'quick', 5], ['BROWN', 'brown', 5], ['FOX', 'fox', 3], ['JUMPS', 'jumps', 5], ['OVER', 'over', 4], ['THE', 'the', 3], ['LAZY', 'lazy', 4], ['DOG', 'dog', 3]]\n"
     ]
    }
   ],
   "source": [
    "word_info = [[word.upper(), word.lower(), len(word)] for word in words]\n",
    "print(word_info)\n"
   ]
  },
  {
   "cell_type": "code",
   "execution_count": 30,
   "id": "024f7f99-68eb-4570-b676-d4641308c41d",
   "metadata": {},
   "outputs": [
    {
     "name": "stdout",
     "output_type": "stream",
     "text": [
      "['quick', 'brown', 'jumps', 'over', 'lazy']\n"
     ]
    }
   ],
   "source": [
    "long_words = [word for word in words if len(word) >= 4]\n",
    "print(long_words)\n",
    "\n"
   ]
  },
  {
   "cell_type": "code",
   "execution_count": null,
   "id": "3f668ba2-4757-4ab8-8d4a-d56ae14cf483",
   "metadata": {},
   "outputs": [],
   "source": []
  }
 ],
 "metadata": {
  "kernelspec": {
   "display_name": "Python 3 (ipykernel)",
   "language": "python",
   "name": "python3"
  },
  "language_info": {
   "codemirror_mode": {
    "name": "ipython",
    "version": 3
   },
   "file_extension": ".py",
   "mimetype": "text/x-python",
   "name": "python",
   "nbconvert_exporter": "python",
   "pygments_lexer": "ipython3",
   "version": "3.11.7"
  }
 },
 "nbformat": 4,
 "nbformat_minor": 5
}
